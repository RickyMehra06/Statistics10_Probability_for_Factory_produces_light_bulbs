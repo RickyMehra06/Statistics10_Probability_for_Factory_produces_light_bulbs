{
 "cells": [
  {
   "cell_type": "markdown",
   "id": "ec291fea",
   "metadata": {},
   "source": [
    "### Statistics 10: Probability for Factory produces light bulbs\n",
    "\n",
    "A factory produces light bulbs, and the probability of a bulb being defective is 0.05.\n",
    "The factory produces a large batch of 500 light bulbs.\n",
    "\n",
    "a. What is the probability that exactly 20 bulbs are defective?\n",
    "\n",
    "b. What is the probability that at least 10 bulbs are defective?\n",
    "\n",
    "c. What is the probability that at max 15 bulbs are defective?\n",
    "\n",
    "d. On average, how many defective bulbs would you expect in a batch of 500?"
   ]
  },
  {
   "cell_type": "code",
   "execution_count": 1,
   "id": "bfa6840d",
   "metadata": {},
   "outputs": [
    {
     "name": "stdout",
     "output_type": "stream",
     "text": [
      "a. Probability of exactly 20 bulbs being defective: 0.05161619253663997\n",
      "b. Probability of at least 10 bulbs being defective: 0.9998316463654692\n",
      "c. Probability of at most 15 bulbs being defective: 0.019858377163006223\n",
      "d. Expected number of defective bulbs: 25.0\n"
     ]
    }
   ],
   "source": [
    "import math\n",
    "\n",
    "def binomial_probability(n, k, p):\n",
    "    # Calculate the binomial coefficient: C(n, k)\n",
    "    coeff = math.comb(n, k)\n",
    "    # Calculate the probability: C(n, k) * p^k * (1-p)^(n-k)\n",
    "    probability = coeff * (p**k) * ((1-p)**(n-k))\n",
    "    return probability\n",
    "\n",
    "# a. Probability of exactly 20 bulbs being defective\n",
    "n = 500\n",
    "p = 0.05\n",
    "k = 20\n",
    "probability_20_defective = binomial_probability(n, k, p)\n",
    "\n",
    "# b. Probability of at least 10 bulbs being defective\n",
    "probability_at_least_10_defective = sum(binomial_probability(n, k, p) for k in range(10, n+1))\n",
    "\n",
    "# c. Probability of at most 15 bulbs being defective\n",
    "probability_at_most_15_defective = sum(binomial_probability(n, k, p) for k in range(0, 16))\n",
    "\n",
    "# d. Expected number of defective bulbs\n",
    "expected_defective_bulbs = n * p\n",
    "\n",
    "print(\"a. Probability of exactly 20 bulbs being defective:\", probability_20_defective)\n",
    "print(\"b. Probability of at least 10 bulbs being defective:\", probability_at_least_10_defective)\n",
    "print(\"c. Probability of at most 15 bulbs being defective:\", probability_at_most_15_defective)\n",
    "print(\"d. Expected number of defective bulbs:\", expected_defective_bulbs)"
   ]
  }
 ],
 "metadata": {
  "kernelspec": {
   "display_name": "Python 3 (ipykernel)",
   "language": "python",
   "name": "python3"
  },
  "language_info": {
   "codemirror_mode": {
    "name": "ipython",
    "version": 3
   },
   "file_extension": ".py",
   "mimetype": "text/x-python",
   "name": "python",
   "nbconvert_exporter": "python",
   "pygments_lexer": "ipython3",
   "version": "3.9.13"
  }
 },
 "nbformat": 4,
 "nbformat_minor": 5
}
